{
 "cells": [
  {
   "cell_type": "markdown",
   "metadata": {},
   "source": [
    "# Implementing Logistic Regression from Scratch\n",
    "\n",
    "In this notebook, we will go through the step-by-step implementation of logistic regression from scratch using Python. Logistic regression is a widely used classification algorithm that models the probability of a binary outcome. We'll build a solid understanding of how logistic regression works and create a functional model without relying on external libraries.\n",
    "\n",
    "## Table of Contents\n",
    "\n",
    "1. [Introduction to Logistic Regression](#introduction)\n",
    "2. [Data Preparation](#data-preparation)\n",
    "3. [Model Implementation](#model-implementation)\n",
    "4. [Training the Model](#training-the-model)\n",
    "5. [Making Class Predictions](#making-class-predictions)\n",
    "6. [Evaluation](#evaluation)"
   ]
  },
  {
   "cell_type": "markdown",
   "metadata": {},
   "source": [
    "## Introduction to Logistic Regression <a name=\"introduction\"></a>\n",
    "\n",
    "Logistic regression is used for binary classification problems where the dependent variable (target) is categorical, representing one of two classes. The logistic regression model calculates the probability of an instance belonging to a particular class using the logistic function. The equation for logistic regression is given by:\n",
    "\n",
    "\n",
    "$$\n",
    "P(Y=1|X) = \\frac{1}{1 + e^{-(mx + b)}}\n",
    "$$\n",
    "\n",
    "Where:\n",
    "- \\(P(Y=1|X)\\) is the probability of the target being class 1 given input \\(X\\)\n",
    "- \\(x\\) is the input feature\n",
    "- \\(m\\) is the slope parameter\n",
    "- \\(b\\) is the intercept\n",
    "\n",
    "Our goal is to determine the optimal values of \\(m\\) and \\(b\\) that maximize the likelihood of the observed data.\n"
   ]
  },
  {
   "cell_type": "code",
   "execution_count": 1,
   "metadata": {},
   "outputs": [],
   "source": [
    "# Import Libraries\n",
    "import numpy as np\n",
    "import matplotlib.pyplot as plt \n",
    "import seaborn as sns\n",
    "from sklearn.model_selection import train_test_split \n",
    "from sklearn import datasets\n",
    "from sklearn.metrics import confusion_matrix"
   ]
  },
  {
   "cell_type": "markdown",
   "metadata": {},
   "source": [
    "## Data Preparation <a name=\"data-preparation\"></a>\n",
    "\n",
    "Before building our logistic regression model, we need to prepare the dataset. We'll perform feature scaling, data splitting, and other preprocessing steps as necessary."
   ]
  },
  {
   "cell_type": "markdown",
   "metadata": {},
   "source": [
    "## Model Implementation <a name=\"model-implementation\"></a>\n",
    "\n",
    "Let's implement the logistic regression model step by step:\n",
    "\n",
    "### 1. Initialize Parameters\n",
    "\n",
    "We start by initializing the parameters \\(m\\) and \\(b\\) with random values or zeros.\n",
    "\n",
    "### 2. Calculate Predictions\n",
    "\n",
    "We calculate the predicted probabilities using the logistic function.\n",
    "\n",
    "### 3. Compute Loss\n",
    "\n",
    "The loss (error) is computed using the log loss (cross-entropy) function, which measures the difference between predicted probabilities and actual class labels.\n",
    "\n",
    "### 4. Update Parameters\n",
    "\n",
    "We update the parameters \\(m\\) and \\(b\\) using gradient descent to minimize the loss.\n",
    "\n",
    "### 5. Repeat\n",
    "\n",
    "Steps 2 to 4 are repeated iteratively for a specified number of epochs or until convergence."
   ]
  },
  {
   "cell_type": "code",
   "execution_count": 2,
   "metadata": {},
   "outputs": [],
   "source": [
    "class LogisticRegression:\n",
    "    \"\"\"\n",
    "    An implementation of the Logistic Regression algorithm \n",
    "    using gradient descent via the NumPy library\n",
    "    \"\"\"\n",
    "    def __init__(self, learning_rate=1e-3, n_iterations=1000, threshold=0.5):\n",
    "        self.lr = learning_rate \n",
    "        self.n_iterations = n_iterations\n",
    "        self.threshold = threshold\n",
    "        self.weights = None \n",
    "        self.bias = None \n",
    "    def fit(self, X, y):\n",
    "        \"\"\"\n",
    "        Function used to train the LogisticRegression classifier\n",
    "        \"\"\"\n",
    "        n_samples, n_features = X.shape \n",
    "\n",
    "        # Initialize weights and bias parameters \n",
    "        self.weights = np.zeros(n_features)\n",
    "        self.bias = 0\n",
    "\n",
    "        # Apply Gradient Descent \n",
    "        for _ in range(self.n_iterations):\n",
    "            y_predicted = self._sigmoid(np.dot(X, self.weights) + self.bias)\n",
    "\n",
    "            # Calculate Gradients \n",
    "            dw = (1 / n_samples) * np.dot(X.T, (y_predicted - y))\n",
    "            db = (1 / n_samples) * np.sum(y_predicted - y)\n",
    "\n",
    "            # Update weights and bias parameters \n",
    "            self.weights -= self.lr * dw \n",
    "            self.bias -= self.lr * db\n",
    "\n",
    "    def predict(self, X):\n",
    "        \"\"\"\n",
    "        Function to predict a new value from the trained\n",
    "        classifier\n",
    "        \"\"\"        \n",
    "        y_predicted = self._sigmoid(np.dot(X, self.weights) + self.bias)\n",
    "        y_predicted_cls = [1 if i > self.threshold else 0 for i in y_predicted]\n",
    "        return np.array(y_predicted_cls)\n",
    "    \n",
    "    def predict_proba(self, X):\n",
    "        \"\"\"\n",
    "        Function to get prediction probability for a new value from the trained\n",
    "        classifier\n",
    "        \"\"\"        \n",
    "        y_predicted = self._sigmoid(np.dot(X, self.weights) + self.bias)\n",
    "        return np.array(y_predicted)\n",
    "\n",
    "    def _sigmoid(self, x):\n",
    "        \"\"\"\n",
    "        Helper function to get the sigmoid output\n",
    "        from a given x\n",
    "        \"\"\"\n",
    "        return 1 / (1 + np.exp(-x))"
   ]
  },
  {
   "cell_type": "markdown",
   "metadata": {},
   "source": [
    "## Training the Model <a name=\"training-the-model\"></a>\n",
    "\n",
    "Now, we will train our linear regression model using the prepared dataset. We'll apply gradient descent to update the parameters and minimize the loss."
   ]
  },
  {
   "cell_type": "code",
   "execution_count": 3,
   "metadata": {},
   "outputs": [],
   "source": [
    "# Generate a Regression Dataset\n",
    "dataset = datasets.load_breast_cancer()\n",
    "X, y = dataset.data, dataset.target\n",
    "\n",
    "# Perform a split of training and testing data with an 80/20 ratio\n",
    "X_train, X_test, y_train, y_test = train_test_split(\n",
    "    X, y, test_size=0.2, random_state = 4\n",
    ")"
   ]
  },
  {
   "cell_type": "code",
   "execution_count": 4,
   "metadata": {},
   "outputs": [
    {
     "name": "stderr",
     "output_type": "stream",
     "text": [
      "C:\\Users\\josep\\AppData\\Local\\Temp\\ipykernel_12508\\255701005.py:56: RuntimeWarning: overflow encountered in exp\n",
      "  return 1 / (1 + np.exp(-x))\n"
     ]
    }
   ],
   "source": [
    "# Train a LinearRegression Classifier\n",
    "clf = LogisticRegression(learning_rate=1e-3, n_iterations=10000)\n",
    "clf.fit(X_train, y_train)"
   ]
  },
  {
   "cell_type": "markdown",
   "metadata": {},
   "source": [
    "## Making Predictions <a name=\"making-predictions\"></a>\n",
    "\n",
    "After training the model, we can make predictions on new, unseen data points using the learned parameters \\(m\\) and \\(b\\)."
   ]
  },
  {
   "cell_type": "code",
   "execution_count": 5,
   "metadata": {},
   "outputs": [
    {
     "name": "stderr",
     "output_type": "stream",
     "text": [
      "C:\\Users\\josep\\AppData\\Local\\Temp\\ipykernel_12508\\255701005.py:56: RuntimeWarning: overflow encountered in exp\n",
      "  return 1 / (1 + np.exp(-x))\n"
     ]
    }
   ],
   "source": [
    "# Generate Predictions from the Fitted Model\n",
    "predictions = clf.predict(X_test)"
   ]
  },
  {
   "cell_type": "markdown",
   "metadata": {},
   "source": [
    "## Evaluation <a name=\"evaluation\"></a>\n",
    "\n",
    "To evaluate our model's performance, we can calculate metrics such as accuracy, precision, recall, and F1-score. These metrics help us assess how well the model classifies instances into the correct classes."
   ]
  },
  {
   "cell_type": "code",
   "execution_count": 6,
   "metadata": {},
   "outputs": [],
   "source": [
    "def calculate_metrics(y_true, y_pred):\n",
    "    \"\"\"\n",
    "    Helper function to determine precision,\n",
    "    recall, accuracy, and a confusion matrix\n",
    "    from the trained model's predictions vs. actuals\n",
    "    \"\"\"\n",
    "    TP = np.sum(np.logical_and(y_pred == 1, y_true == 1))\n",
    "    TN = np.sum(np.logical_and(y_pred == 0, y_true == 0))\n",
    "    FP = np.sum(np.logical_and(y_pred == 1, y_true == 0))\n",
    "    FN = np.sum(np.logical_and(y_pred == 0, y_true == 1))\n",
    "    conf_mat = np.array([TN, FP, FN, TP], dtype=np.int64).reshape(2, 2)\n",
    "    precision = TP / float(TP + FP)\n",
    "    recall = TP / float(TP + FN)\n",
    "    f1 = (precision * recall) / (precision + recall)\n",
    "    accuracy = float(TP + TN) / float(TP + TN + FP + FN)\n",
    "    return precision, recall, f1, accuracy, conf_mat"
   ]
  },
  {
   "cell_type": "code",
   "execution_count": 7,
   "metadata": {},
   "outputs": [
    {
     "name": "stdout",
     "output_type": "stream",
     "text": [
      "Precision: 0.92\n",
      "Recall: 0.96\n",
      "F1 Score: 0.47\n",
      "Accuracy: 0.91\n",
      "Confusion Matrix:\n",
      "[[27  7]\n",
      " [ 3 77]]\n"
     ]
    }
   ],
   "source": [
    "precision, recall, f1, accuracy, conf_mat = calculate_metrics(y_test, predictions)\n",
    "\n",
    "print(f'Precision: {precision:.2f}')\n",
    "print(f'Recall: {recall:.2f}')\n",
    "print(f'F1 Score: {f1:.2f}')\n",
    "print(f'Accuracy: {accuracy:.2f}')\n",
    "print(f'Confusion Matrix:\\n{conf_mat}')"
   ]
  },
  {
   "cell_type": "code",
   "execution_count": 8,
   "metadata": {},
   "outputs": [
    {
     "data": {
      "text/plain": [
       "Text(0.5, 427.9555555555555, 'Predicted Diagnosis')"
      ]
     },
     "execution_count": 8,
     "metadata": {},
     "output_type": "execute_result"
    },
    {
     "data": {
      "image/png": "[encoded data removed]",
      "text/plain": [
       "<Figure size 640x480 with 2 Axes>"
      ]
     },
     "metadata": {},
     "output_type": "display_data"
    }
   ],
   "source": [
    "# Generate a Confusion Matrix to Showcase Results\n",
    "class_names = ['No Cancer', 'Cancer']\n",
    "fig, ax = plt.subplots()\n",
    "tick_marks = np.arange(len(class_names))\n",
    "plt.xticks(tick_marks, class_names)\n",
    "plt.yticks(tick_marks, class_names)\n",
    "sns.heatmap(conf_mat, annot=True, cmap='Blues', fmt='g')\n",
    "ax.xaxis.set_label_position('top')\n",
    "plt.tight_layout()\n",
    "plt.title('Confusion Matrix', y=1.1)\n",
    "plt.ylabel('Actual Diagnosis')\n",
    "plt.xlabel('Predicted Diagnosis')"
   ]
  },
  {
   "cell_type": "markdown",
   "metadata": {},
   "source": [
    "## Conclusion\n",
    "\n",
    "In this notebook, we've successfully implemented logistic regression from scratch, a powerful algorithm for binary classification problems. We covered the essential steps of data preparation, model implementation, training, prediction, and evaluation. This exercise provides a strong foundation for understanding the mechanics of logistic regression and serves as a starting point for more advanced classification techniques in machine learning."
   ]
  }
 ],
 "metadata": {
  "kernelspec": {
   "display_name": ".venv",
   "language": "python",
   "name": "python3"
  },
  "language_info": {
   "codemirror_mode": {
    "name": "ipython",
    "version": 3
   },
   "file_extension": ".py",
   "mimetype": "text/x-python",
   "name": "python",
   "nbconvert_exporter": "python",
   "pygments_lexer": "ipython3",
   "version": "3.11.4"
  },
  "orig_nbformat": 4
 },
 "nbformat": 4,
 "nbformat_minor": 2
}
